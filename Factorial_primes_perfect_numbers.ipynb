{
  "nbformat": 4,
  "nbformat_minor": 0,
  "metadata": {
    "colab": {
      "provenance": [],
      "authorship_tag": "ABX9TyMR3s5qTQ49HwP8JTjL9s/e",
      "include_colab_link": true
    },
    "kernelspec": {
      "name": "python3",
      "display_name": "Python 3"
    },
    "language_info": {
      "name": "python"
    }
  },
  "cells": [
    {
      "cell_type": "markdown",
      "metadata": {
        "id": "view-in-github",
        "colab_type": "text"
      },
      "source": [
        "<a href=\"https://colab.research.google.com/github/Myke776/Programing-Exercises/blob/main/Factorial_primes_perfect_numbers.ipynb\" target=\"_parent\"><img src=\"https://colab.research.google.com/assets/colab-badge.svg\" alt=\"Open In Colab\"/></a>"
      ]
    },
    {
      "cell_type": "code",
      "execution_count": 35,
      "metadata": {
        "id": "W6h8IH4H1eoW",
        "colab": {
          "base_uri": "https://localhost:8080/"
        },
        "outputId": "7dc6d882-8341-4fe7-c9af-d88427157adf"
      },
      "outputs": [
        {
          "output_type": "stream",
          "name": "stdout",
          "text": [
            "Ingrese el numero: 13\n",
            "True\n"
          ]
        }
      ],
      "source": [
        "#Function to determinate if a number is prime\n",
        "\n",
        "n = int(input(\"Enter a number: \"))\n",
        "def es_primo(n):\n",
        "  divisores = []\n",
        "  for d in range(1,n+1):\n",
        "      if n%d == 0:\n",
        "        divisores.append(d)\n",
        "  if len(divisores) == 2:\n",
        "      return True\n",
        "  else:\n",
        "      return False\n",
        "\n",
        "print(es_primo(n))\n"
      ]
    },
    {
      "cell_type": "code",
      "source": [
        "#Function to determine if a number is prime optimized version\n",
        "\n",
        "n = int(input(\"Ingrese el numero: \"))\n",
        "\n",
        "def es_primo2(n):\n",
        "    if n <= 1:\n",
        "        return False\n",
        "    elif n == 2:\n",
        "      return True\n",
        "    divisores = 0\n",
        "    for d in range(1, int(n**0.5) + 1):\n",
        "        if n % d == 0:\n",
        "            divisores += 1\n",
        "            if divisores > 1:\n",
        "                return False\n",
        "    return True\n",
        "\n",
        "print(es_primo2(n))\n",
        "\n",
        "\n"
      ],
      "metadata": {
        "colab": {
          "base_uri": "https://localhost:8080/"
        },
        "id": "KI7irs4Bk3UY",
        "outputId": "852c639c-1039-4e73-ac7d-4cddc8d619f1"
      },
      "execution_count": 82,
      "outputs": [
        {
          "output_type": "stream",
          "name": "stdout",
          "text": [
            "Ingrese el numero: 4\n",
            "False\n"
          ]
        }
      ]
    },
    {
      "cell_type": "code",
      "source": [
        "N = int(input( \"Ingrese un número: \"))\n",
        "\n",
        "def factorial(N):\n",
        "  producto  = 1\n",
        "  for i in range (1,N+1):\n",
        "    producto *= i\n",
        "  return producto\n",
        "print(factorial(N))"
      ],
      "metadata": {
        "colab": {
          "base_uri": "https://localhost:8080/"
        },
        "id": "La8UD6ELpFOO",
        "outputId": "08453f5f-aa22-4a1b-e9cc-52292caaa844"
      },
      "execution_count": 84,
      "outputs": [
        {
          "output_type": "stream",
          "name": "stdout",
          "text": [
            "Ingrese un número: 7\n",
            "5040\n"
          ]
        }
      ]
    },
    {
      "cell_type": "code",
      "source": [
        "z = int(input(\"Enter a number: \"))\n",
        "\n",
        "def is_perfect(z):\n",
        "  if z<=1:\n",
        "    return print (\"The number is not perfect\")\n",
        "  dividers = []\n",
        "  for i in range(1,z//2+1):\n",
        "    if z%i == 0:\n",
        "      dividers.append(i)\n",
        "  print (dividers)\n",
        "  sum = 0\n",
        "  for i in dividers:\n",
        "    sum +=i\n",
        "  if sum == z:\n",
        "    print( \"The number is perfect\")\n",
        "  else:\n",
        "    print (\"The number is not perfect\")\n",
        "\n",
        "(is_perfect(z))\n",
        "\n",
        "\n",
        "\n",
        "\n",
        "\n"
      ],
      "metadata": {
        "colab": {
          "base_uri": "https://localhost:8080/"
        },
        "id": "WlsUFZxUtqhf",
        "outputId": "99d3c075-4a08-42b1-ba38-6934b6b1a75e"
      },
      "execution_count": 75,
      "outputs": [
        {
          "output_type": "stream",
          "name": "stdout",
          "text": [
            "Enter a number: 28\n",
            "[1, 2, 4, 7, 14]\n",
            "The number is perfect\n"
          ]
        }
      ]
    },
    {
      "cell_type": "code",
      "source": [
        "z = int(input(\"Enter a number: \"))\n",
        "\n",
        "def is_perfect(z):\n",
        "    if z <= 1:\n",
        "        return False\n",
        "\n",
        "    dividers = []\n",
        "    for i in range(1, z // 2 + 1):\n",
        "        if z % i == 0:\n",
        "            dividers.append(i)\n",
        "\n",
        "    return sum(dividers) == z\n",
        "\n",
        "\n",
        "if is_perfect(z):\n",
        "    print(True)\n",
        "else:\n",
        "    print(False)"
      ],
      "metadata": {
        "colab": {
          "base_uri": "https://localhost:8080/"
        },
        "id": "m1x-hlmZwvc7",
        "outputId": "b090bb4f-3b9c-4d45-d1ae-5cdeb3de6026"
      },
      "execution_count": 80,
      "outputs": [
        {
          "output_type": "stream",
          "name": "stdout",
          "text": [
            "Enter a number: 496\n",
            "True\n"
          ]
        }
      ]
    },
    {
      "cell_type": "code",
      "source": [],
      "metadata": {
        "id": "l6pG1e1y2o1D"
      },
      "execution_count": null,
      "outputs": []
    }
  ]
}